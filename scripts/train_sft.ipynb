{
 "cells": [
  {
   "cell_type": "markdown",
   "metadata": {},
   "source": [
    "# Supervised Fine-Tuning"
   ]
  },
  {
   "cell_type": "markdown",
   "metadata": {},
   "source": [
    "## Install Dependencies."
   ]
  },
  {
   "cell_type": "code",
   "execution_count": null,
   "metadata": {},
   "outputs": [],
   "source": [
    "%cd ..\n",
    "! pip install -q bitsandbytes deepspeed huggingface_hub\n",
    "! pip install -q -r requirements.txt"
   ]
  },
  {
   "cell_type": "code",
   "execution_count": null,
   "metadata": {},
   "outputs": [],
   "source": [
    "import huggingface_hub\n",
    "\n",
    "huggingface_hub.login()"
   ]
  },
  {
   "cell_type": "markdown",
   "metadata": {},
   "source": [
    "## Run"
   ]
  },
  {
   "cell_type": "code",
   "execution_count": null,
   "metadata": {},
   "outputs": [],
   "source": [
    "model_name_or_path = \"stabilityai/japanese-stablelm-base-gamma-7b\"\n",
    "dataset = \"alpaca_ichiikara\"\n",
    "template = \"mistral\"\n",
    "max_length = 4096\n",
    "lora_rank = 64\n",
    "lora_alpha = 128.0\n",
    "lora_dropout = 0.05\n",
    "lora_target = \"q_proj,v_proj,k_proj,o_proj,gate_proj,down_proj,up_proj\"\n",
    "additional_target = \"lm_head,embed_tokens\"\n",
    "output_dir = \"./sft_outputs\"\n",
    "logging_dir = \"./sft_logs\"\n",
    "overwrite_cache = True\n",
    "per_device_train_batch_size = 8\n",
    "gradient_accumulation_step = 2\n",
    "lr_scheduler_type = \"cosine\"\n",
    "logging_steps = 10\n",
    "save_steps = 1000\n",
    "learning_rate = 1e-4\n",
    "num_train_epochs = 3.0\n",
    "plot_loss = True\n",
    "use_flash_attn = True\n",
    "\n",
    "use_bf16 = True\n",
    "use_fp16 = True"
   ]
  },
  {
   "cell_type": "code",
   "execution_count": null,
   "metadata": {},
   "outputs": [],
   "source": [
    "command = f\"python src/train_bash.py \\\n",
    "    --stage sft \\\n",
    "    --model_name_or_path {model_name_or_path} \\\n",
    "    --do_train \\\n",
    "    --do_eval \\\n",
    "    --dataset {dataset} \\\n",
    "    --template {template} \\\n",
    "    --finetuning_type lora \\\n",
    "    --max_length {max_length} \\\n",
    "    --lora_rank {lora_rank} \\\n",
    "    --lora_alpha {lora_alpha} \\\n",
    "    --lora_dropout {lora_dropout} \\\n",
    "    --lora_target {lora_target} \\\n",
    "    --additional_target {additional_target} \\\n",
    "    --output_dir {output_dir} \\\n",
    "    --logging_dir {logging_dir} \\\n",
    "    --overwrite_cache {str(overwrite_cache)} \\\n",
    "    --per_device_train_batch_size {per_device_train_batch_size} \\\n",
    "    --gradient_accumulation_steps {gradient_accumulation_step} \\\n",
    "    --lr_scheduler_type {lr_scheduler_type} \\\n",
    "    --logging_steps {logging_steps} \\\n",
    "    --save_steps {save_steps} \\\n",
    "    --learning_rate {learning_rate} \\\n",
    "    --num_train_epochs {num_train_epochs} \\\n",
    "    {'--plot_loss' if plot_loss else ''} \\\n",
    "    {'--flash_attn' if use_flash_attn else ''} \\\n",
    "    {'--bf16' if use_bf16 else ''} \\\n",
    "    {'--fp16' if use_fp16 else ''}\n",
    "    \"\n",
    "\n",
    "! {command}"
   ]
  },
  {
   "cell_type": "markdown",
   "metadata": {},
   "source": [
    "## Demo, Merge and Benchmark"
   ]
  },
  {
   "cell_type": "markdown",
   "metadata": {},
   "source": [
    "### Demo"
   ]
  },
  {
   "cell_type": "code",
   "execution_count": null,
   "metadata": {},
   "outputs": [],
   "source": [
    "model_name_or_path = \"stabilityai/japanese-stablelm-base-gamma-7b\"\n",
    "template = \"mistral\"\n",
    "finetuning_type = \"lora\"\n",
    "checkpoint_dir = \"./sft_outputs\"\n",
    "\n",
    "command = f\"python src/cli_demo.py \\\n",
    "    --model_name_or_path {model_name_or_path} \\\n",
    "    --template {template} \\\n",
    "    --finetuning_type {finetuning_type} \\\n",
    "    --checkpoint_dir {checkpoint_dir}\"\n",
    "\n",
    "print(command)\n"
   ]
  },
  {
   "cell_type": "markdown",
   "metadata": {},
   "source": [
    "### Merge LoRA"
   ]
  },
  {
   "cell_type": "code",
   "execution_count": null,
   "metadata": {},
   "outputs": [],
   "source": []
  },
  {
   "cell_type": "markdown",
   "metadata": {},
   "source": []
  }
 ],
 "metadata": {
  "language_info": {
   "name": "python"
  }
 },
 "nbformat": 4,
 "nbformat_minor": 2
}
